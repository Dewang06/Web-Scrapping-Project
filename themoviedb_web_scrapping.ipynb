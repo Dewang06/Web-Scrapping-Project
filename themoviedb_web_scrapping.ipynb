{
 "cells": [
  {
   "cell_type": "code",
   "execution_count": 2,
   "id": "b51256d2",
   "metadata": {},
   "outputs": [],
   "source": [
    "import requests\n",
    "from bs4 import BeautifulSoup"
   ]
  },
  {
   "cell_type": "code",
   "execution_count": 3,
   "id": "dac2ed0d",
   "metadata": {},
   "outputs": [],
   "source": [
    "url = 'https://www.themoviedb.org/movie'  # Put your URL in this quote\n",
    "\n",
    "header = {\n",
    "    'User-Agent': 'Mozilla/5.0 (Windows NT 6.3; Win64; x64) AppleWebKit/537.36 (KHTML, like Gecko) Chrome/99.0.4844.51 Safari/537.36'\n",
    "}"
   ]
  },
  {
   "cell_type": "code",
   "execution_count": 4,
   "id": "9c1ded80",
   "metadata": {},
   "outputs": [],
   "source": [
    "def get_all_pages():\n",
    "    all_url = []\n",
    "    for i in range(1, 51):\n",
    "        page = f\"?page={i}\"\n",
    "        all_url.append(url + page)\n",
    "    return all_url"
   ]
  },
  {
   "cell_type": "code",
   "execution_count": null,
   "id": "9a466f75",
   "metadata": {},
   "outputs": [],
   "source": [
    "pages = get_all_pages()"
   ]
  },
  {
   "cell_type": "code",
   "execution_count": 6,
   "id": "f55a0f6b",
   "metadata": {},
   "outputs": [],
   "source": [
    "def get_movie_cards(page):\n",
    "    source_data_all = requests.get(page, headers = header).text\n",
    "    soup_data_all = BeautifulSoup(source_data_all, 'lxml')\n",
    "    all_card = soup_data_all.find_all('div', class_='card style_1')\n",
    "    return all_card"
   ]
  },
  {
   "cell_type": "code",
   "execution_count": 7,
   "id": "55b53a2f",
   "metadata": {},
   "outputs": [],
   "source": [
    "def fetch_movie_urls(item):\n",
    "    link = str(item.find('a'))[29:37]\n",
    "    new_url = url + link\n",
    "    return new_url"
   ]
  },
  {
   "cell_type": "code",
   "execution_count": 8,
   "id": "2d5e7f29",
   "metadata": {},
   "outputs": [],
   "source": [
    "def get_movie_names(movie_head):\n",
    "    try:\n",
    "        movie_name = movie_head.find('h2').find('a').text\n",
    "    except:\n",
    "        movie_name = None\n",
    "    return movie_name"
   ]
  },
  {
   "cell_type": "code",
   "execution_count": 9,
   "id": "fbc2c00f",
   "metadata": {},
   "outputs": [],
   "source": [
    "def get_release_dates(movie_head):\n",
    "    try:\n",
    "        release_date = movie_head.find('span', class_='release').text.replace('\\n','').strip().split(\" \")[0]\n",
    "    except:\n",
    "        release_date = None\n",
    "    return release_date"
   ]
  },
  {
   "cell_type": "code",
   "execution_count": 10,
   "id": "e4635a5c",
   "metadata": {},
   "outputs": [],
   "source": [
    "def get_ratings(movie_head):\n",
    "    try:\n",
    "        rating = movie_head.find('div', class_='user_score_chart')[\"data-percent\"]\n",
    "    except:\n",
    "        rating = None\n",
    "    return rating"
   ]
  },
  {
   "cell_type": "code",
   "execution_count": 11,
   "id": "0a99dfba",
   "metadata": {},
   "outputs": [],
   "source": [
    "def get_directors(movie_head):\n",
    "    try:\n",
    "        production = movie_head.find('ol', class_='people no_image')\n",
    "        profile = production.find_all('li', class_='profile')\n",
    "        director = \"\"\n",
    "\n",
    "        for i in range(0, len(profile)):\n",
    "            character = str(profile[i].find_all('p')[1].text)\n",
    "            if 'Director' in character:\n",
    "                director += f\"{profile[i].find('a').text},\"\n",
    "        \n",
    "        director = director.rstrip(',')\n",
    "    except:\n",
    "        director = None\n",
    "    \n",
    "    return director"
   ]
  },
  {
   "cell_type": "code",
   "execution_count": 12,
   "id": "2634201e",
   "metadata": {},
   "outputs": [],
   "source": [
    "def get_movie_durations(movie_head):\n",
    "    try:\n",
    "        duration = movie_head.find('span', class_='runtime').text.replace('\\n','').strip()\n",
    "    except:\n",
    "        duration = None\n",
    "    return duration"
   ]
  },
  {
   "cell_type": "code",
   "execution_count": 13,
   "id": "e5bb66f1",
   "metadata": {},
   "outputs": [],
   "source": [
    "def get_movie_genres(movie_head):\n",
    "    try:\n",
    "        genre = movie_head.find('span', class_='genres').text.replace('\\n','').replace('\\xa0','')\n",
    "    except:\n",
    "        genre = None\n",
    "    return genre"
   ]
  },
  {
   "cell_type": "code",
   "execution_count": null,
   "id": "a2455d09",
   "metadata": {},
   "outputs": [],
   "source": [
    "final_data = []\n",
    "\n",
    "for page in pages:\n",
    "    all_cards = get_movie_cards(page)\n",
    "    \n",
    "    for card in all_cards:\n",
    "        movie_url = fetch_movie_urls(card)\n",
    "        \n",
    "        try:\n",
    "            movie = requests.get(movie_url, headers=header).text\n",
    "            movie_soup = BeautifulSoup(movie, 'lxml')\n",
    "\n",
    "            movie_head = movie_soup.find('section', id='original_header')\n",
    "\n",
    "            movie_name = get_movie_names(movie_head)\n",
    "            release_date = get_release_dates(movie_head)\n",
    "            rating = get_ratings(movie_head)\n",
    "            director = get_directors(movie_head)\n",
    "            duration = get_movie_durations(movie_head)\n",
    "            genre = get_movie_genres(movie_head)\n",
    "\n",
    "            movie_dict = {\n",
    "                'Movie Name': movie_name,\n",
    "                'Release Date': release_date,\n",
    "                'Rating': rating,\n",
    "                'Director': director,\n",
    "                'Duration': duration,\n",
    "                'Genre': genre\n",
    "            }\n",
    "\n",
    "            final_data.append(movie_dict)\n",
    "        except Exception as e:\n",
    "            print(f\"Error processing {movie_url}: {e}\")\n"
   ]
  },
  {
   "cell_type": "code",
   "execution_count": 15,
   "id": "67bc826e",
   "metadata": {},
   "outputs": [],
   "source": [
    "import pandas as pd"
   ]
  },
  {
   "cell_type": "code",
   "execution_count": 16,
   "id": "c90ab828",
   "metadata": {},
   "outputs": [],
   "source": [
    "def save_to_excel(final_data):\n",
    "    df = pd.DataFrame(final_data)\n",
    "    df.to_excel('themoviedb.xlsx')"
   ]
  },
  {
   "cell_type": "code",
   "execution_count": 17,
   "id": "0b841ea1",
   "metadata": {},
   "outputs": [],
   "source": [
    "save_to_excel(final_data)"
   ]
  }
 ],
 "metadata": {
  "kernelspec": {
   "display_name": "Python 3 (ipykernel)",
   "language": "python",
   "name": "python3"
  },
  "language_info": {
   "codemirror_mode": {
    "name": "ipython",
    "version": 3
   },
   "file_extension": ".py",
   "mimetype": "text/x-python",
   "name": "python",
   "nbconvert_exporter": "python",
   "pygments_lexer": "ipython3",
   "version": "3.11.5"
  }
 },
 "nbformat": 4,
 "nbformat_minor": 5
}
